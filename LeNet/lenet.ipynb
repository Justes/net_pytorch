{
 "cells": [
  {
   "cell_type": "code",
   "execution_count": 1,
   "id": "24b20192",
   "metadata": {},
   "outputs": [
    {
     "name": "stdout",
     "output_type": "stream",
     "text": [
      "conv out: torch.Size([2, 32, 5, 5])\n",
      "lenet out: torch.Size([2, 10])\n"
     ]
    }
   ],
   "source": [
    "import torch\n",
    "import torch.nn as nn\n",
    "import torch.nn.functional as F\n",
    "\n",
    "class Lenet5(nn.Module):\n",
    "    \n",
    "    def __init__(self):\n",
    "        super(Lenet5, self).__init__()\n",
    "        \n",
    "        self.conv_unit = nn.Sequential(\n",
    "            nn.Conv2d(3, 16, kernel_size=5, stride=1, padding=0),\n",
    "            nn.MaxPool2d(kernel_size=2, stride=2, padding=0),\n",
    "            nn.Conv2d(16, 32, kernel_size=5, stride=1, padding=0),\n",
    "            nn.MaxPool2d(kernel_size=2, stride=2, padding=0),\n",
    "        )\n",
    "        \n",
    "        self.fc_unit = nn.Sequential(\n",
    "            nn.Linear(32*5*5, 32),\n",
    "            nn.ReLU(),\n",
    "            nn.Linear(32, 10)\n",
    "        )\n",
    "        \n",
    "        tmp = torch.randn(2, 3, 32, 32)\n",
    "        out = self.conv_unit(tmp)\n",
    "        \n",
    "        print('conv out:', out.shape)\n",
    "        \n",
    "    def forward(self, x):\n",
    "        batchsz = x.size(0)\n",
    "        x = self.conv_unit(x)\n",
    "        x = x.view(batchsz, 32*5*5)\n",
    "        logits = self.fc_unit(x)\n",
    "        \n",
    "        return logits\n",
    "    \n",
    "if __name__ == \"__main__\":\n",
    "    net = Lenet5()\n",
    "    \n",
    "    tmp = torch.randn(2, 3, 32, 32)\n",
    "    out = net(tmp)\n",
    "    print('lenet out:', out.shape)"
   ]
  },
  {
   "cell_type": "code",
   "execution_count": null,
   "id": "3d553ec3",
   "metadata": {},
   "outputs": [],
   "source": []
  }
 ],
 "metadata": {
  "kernelspec": {
   "display_name": "Python 3 (ipykernel)",
   "language": "python",
   "name": "python3"
  },
  "language_info": {
   "codemirror_mode": {
    "name": "ipython",
    "version": 3
   },
   "file_extension": ".py",
   "mimetype": "text/x-python",
   "name": "python",
   "nbconvert_exporter": "python",
   "pygments_lexer": "ipython3",
   "version": "3.9.7"
  }
 },
 "nbformat": 4,
 "nbformat_minor": 5
}
