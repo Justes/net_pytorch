{
 "cells": [
  {
   "cell_type": "code",
   "execution_count": 1,
   "id": "51ab8d52",
   "metadata": {},
   "outputs": [
    {
     "name": "stdout",
     "output_type": "stream",
     "text": [
      "Downloading https://www.cs.toronto.edu/~kriz/cifar-10-python.tar.gz to ../data/cifar\\cifar-10-python.tar.gz\n"
     ]
    },
    {
     "data": {
      "application/vnd.jupyter.widget-view+json": {
       "model_id": "21585a9a04274f26b72edfb995e7b92f",
       "version_major": 2,
       "version_minor": 0
      },
      "text/plain": [
       "  0%|          | 0/170498071 [00:00<?, ?it/s]"
      ]
     },
     "metadata": {},
     "output_type": "display_data"
    },
    {
     "name": "stdout",
     "output_type": "stream",
     "text": [
      "Extracting ../data/cifar\\cifar-10-python.tar.gz to ../data/cifar\n",
      "Files already downloaded and verified\n",
      "x: torch.Size([128, 3, 32, 32]) label: torch.Size([128])\n",
      "conv out: torch.Size([2, 32, 5, 5])\n",
      "Lenet5(\n",
      "  (conv_unit): Sequential(\n",
      "    (0): Conv2d(3, 16, kernel_size=(5, 5), stride=(1, 1))\n",
      "    (1): MaxPool2d(kernel_size=2, stride=2, padding=0, dilation=1, ceil_mode=False)\n",
      "    (2): Conv2d(16, 32, kernel_size=(5, 5), stride=(1, 1))\n",
      "    (3): MaxPool2d(kernel_size=2, stride=2, padding=0, dilation=1, ceil_mode=False)\n",
      "  )\n",
      "  (fc_unit): Sequential(\n",
      "    (0): Linear(in_features=800, out_features=120, bias=True)\n",
      "    (1): ReLU()\n",
      "    (2): Linear(in_features=120, out_features=84, bias=True)\n",
      "    (3): ReLU()\n",
      "    (4): Linear(in_features=84, out_features=10, bias=True)\n",
      "  )\n",
      ")\n",
      "0 loss: 1.1020485162734985\n",
      "0 test acc: 0.5447\n",
      "1 loss: 1.16639244556427\n",
      "1 test acc: 0.5985\n",
      "2 loss: 0.8702408671379089\n",
      "2 test acc: 0.6381\n",
      "3 loss: 0.7949880361557007\n",
      "3 test acc: 0.6641\n",
      "4 loss: 1.1009883880615234\n",
      "4 test acc: 0.6707\n"
     ]
    }
   ],
   "source": [
    "import torch\n",
    "from torch.utils.data import DataLoader\n",
    "from torchvision import datasets\n",
    "from torchvision import transforms\n",
    "from torch import nn, optim\n",
    "\n",
    "from lenet import Lenet5\n",
    "\n",
    "def main():\n",
    "    batchsz = 128\n",
    "    cifar_train = datasets.CIFAR10('../data/cifar', True, transform=transforms.Compose([\n",
    "        transforms.Resize((32, 32)),\n",
    "        transforms.ToTensor(),\n",
    "        transforms.Normalize(mean=[0.485, 0.456, 0.406],\n",
    "                            std=[0.229, 0.224, 0.225])\n",
    "    ]), download=True)\n",
    "    cifar_train = DataLoader(cifar_train, batch_size=batchsz, shuffle=True)\n",
    "    \n",
    "    cifar_test = datasets.CIFAR10('../data/cifar', False, transform=transforms.Compose([\n",
    "        transforms.Resize((32, 32)),\n",
    "        transforms.ToTensor(),\n",
    "        transforms.Normalize(mean=[0.485, 0.456, 0.406],\n",
    "                            std=[0.229, 0.224, 0.225])\n",
    "    ]), download=True)\n",
    "    cifar_test = DataLoader(cifar_test, batch_size=batchsz, shuffle=True)\n",
    "    \n",
    "    x, label = iter(cifar_train).next()\n",
    "    print('x:', x.shape, 'label:',label.shape)\n",
    "    \n",
    "    net = Lenet5()\n",
    "    criterion = nn.CrossEntropyLoss()\n",
    "    optimizer = optim.Adam(net.parameters(), lr=1e-3)\n",
    "    print(net)\n",
    "    \n",
    "    for epoch in range(5):\n",
    "        net.train()\n",
    "        \n",
    "        for batchidx, (x, label) in enumerate(cifar_train):\n",
    "            logits = net(x)\n",
    "            loss = criterion(logits, label)\n",
    "            optimizer.zero_grad()\n",
    "            loss.backward()\n",
    "            optimizer.step()\n",
    "            \n",
    "        print(epoch , 'loss:', loss.item())\n",
    "        \n",
    "        net.eval()\n",
    "        with torch.no_grad():\n",
    "            total_correct = 0\n",
    "            total_num = 0\n",
    "            for x, label in cifar_test:\n",
    "                logits = net(x)\n",
    "                pred = logits.argmax(dim=1)\n",
    "                correct = torch.eq(pred, label).float().sum().item()\n",
    "                total_correct += correct\n",
    "                total_num += x.size(0)\n",
    "            \n",
    "            acc = total_correct / total_num\n",
    "            print(epoch, 'test acc:', acc)\n",
    "    \n",
    "if __name__ == \"__main__\":\n",
    "    main()"
   ]
  },
  {
   "cell_type": "code",
   "execution_count": null,
   "id": "10021f8b",
   "metadata": {},
   "outputs": [],
   "source": []
  },
  {
   "cell_type": "code",
   "execution_count": null,
   "id": "acf51fff",
   "metadata": {},
   "outputs": [],
   "source": []
  }
 ],
 "metadata": {
  "kernelspec": {
   "display_name": "Python 3 (ipykernel)",
   "language": "python",
   "name": "python3"
  },
  "language_info": {
   "codemirror_mode": {
    "name": "ipython",
    "version": 3
   },
   "file_extension": ".py",
   "mimetype": "text/x-python",
   "name": "python",
   "nbconvert_exporter": "python",
   "pygments_lexer": "ipython3",
   "version": "3.9.7"
  }
 },
 "nbformat": 4,
 "nbformat_minor": 5
}
