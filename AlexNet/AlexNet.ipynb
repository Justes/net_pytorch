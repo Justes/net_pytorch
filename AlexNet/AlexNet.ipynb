{
 "cells": [
  {
   "cell_type": "code",
   "execution_count": 15,
   "id": "47fc5f65",
   "metadata": {},
   "outputs": [
    {
     "name": "stdout",
     "output_type": "stream",
     "text": [
      "conv out: torch.Size([2, 128, 6, 6])\n",
      "alex out: torch.Size([2, 1000])\n"
     ]
    }
   ],
   "source": [
    "import torch\n",
    "import torch.nn as nn\n",
    "\n",
    "class AlexNet(nn.Module):\n",
    "    \n",
    "    def __init__(self):\n",
    "        super(AlexNet, self).__init__()\n",
    "        \n",
    "        self.conv_unit = nn.Sequential(\n",
    "            nn.Conv2d(3, 48, kernel_size=11, stride=4,  padding=2),\n",
    "            nn.ReLU(),\n",
    "            nn.MaxPool2d(kernel_size=3, stride=2, padding=0),\n",
    "            nn.Conv2d(48, 128, kernel_size=5, stride=1, padding=2),\n",
    "            nn.ReLU(),\n",
    "            nn.MaxPool2d(kernel_size=3, stride=2, padding=0),\n",
    "            nn.Conv2d(128, 192, kernel_size=3, stride=1, padding=1),\n",
    "            nn.ReLU(),\n",
    "            nn.Conv2d(192, 192, kernel_size=3, stride=1, padding=1),\n",
    "            nn.ReLU(),\n",
    "            nn.Conv2d(192, 128, kernel_size=3, stride=1, padding=1),\n",
    "            nn.ReLU(),\n",
    "            nn.MaxPool2d(kernel_size=3, stride=2, padding=0)\n",
    "        )\n",
    "        \n",
    "        self.fc_unit = nn.Sequential(\n",
    "            nn.Linear(128 * 6 * 6, 2048),\n",
    "            nn.ReLU(),\n",
    "            nn.Linear(2048, 2048),\n",
    "            nn.ReLU(),\n",
    "            nn.Linear(2048, 1000)\n",
    "        )\n",
    "        \n",
    "        tmp = torch.randn(2, 3, 224, 224)\n",
    "        out = self.conv_unit(tmp)\n",
    "        \n",
    "        print('conv out:', out.shape)\n",
    "        \n",
    "    def forward(self, x):\n",
    "        batchsz = x.size(0)\n",
    "        x = self.conv_unit(x)\n",
    "        x = x.view(batchsz, 128 * 6 * 6)\n",
    "        logits = self.fc_unit(x)\n",
    "        \n",
    "        return logits\n",
    "\n",
    "if __name__ == \"__main__\":\n",
    "    tmp = torch.randn(2, 3, 224, 224)\n",
    "    net = AlexNet()\n",
    "    out = net(tmp)\n",
    "    print('alex out:', out.shape)"
   ]
  },
  {
   "cell_type": "code",
   "execution_count": null,
   "id": "57648944",
   "metadata": {},
   "outputs": [],
   "source": []
  },
  {
   "cell_type": "code",
   "execution_count": null,
   "id": "5b793888",
   "metadata": {},
   "outputs": [],
   "source": []
  }
 ],
 "metadata": {
  "kernelspec": {
   "display_name": "Python 3 (ipykernel)",
   "language": "python",
   "name": "python3"
  },
  "language_info": {
   "codemirror_mode": {
    "name": "ipython",
    "version": 3
   },
   "file_extension": ".py",
   "mimetype": "text/x-python",
   "name": "python",
   "nbconvert_exporter": "python",
   "pygments_lexer": "ipython3",
   "version": "3.9.7"
  }
 },
 "nbformat": 4,
 "nbformat_minor": 5
}
