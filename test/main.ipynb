{
 "cells": [
  {
   "cell_type": "code",
   "execution_count": 20,
   "id": "4d60c355",
   "metadata": {},
   "outputs": [
    {
     "name": "stdout",
     "output_type": "stream",
     "text": [
      "conv out: torch.Size([2, 16, 5, 5])\n",
      "lenet out: torch.Size([2, 10])\n",
      "Files already downloaded and verified\n",
      "Files already downloaded and verified\n",
      "x: torch.Size([128, 3, 32, 32]) label: torch.Size([128])\n",
      "conv out: torch.Size([2, 16, 5, 5])\n",
      "0 loss: 1.7710403203964233\n",
      "acc : 0.441\n",
      "1 loss: 1.405535340309143\n",
      "acc : 0.5043\n",
      "2 loss: 1.3211902379989624\n",
      "acc : 0.5181\n",
      "3 loss: 1.603732705116272\n",
      "acc : 0.5399\n",
      "4 loss: 1.3879693746566772\n",
      "acc : 0.5527\n"
     ]
    }
   ],
   "source": [
    "import torch\n",
    "from torch.utils.data import DataLoader\n",
    "from torchvision import datasets\n",
    "from torchvision import transforms\n",
    "from torch import nn, optim\n",
    "\n",
    "%run test.ipynb\n",
    "\n",
    "if __name__ == \"__main__\":\n",
    "    batchsz = 128\n",
    "    \n",
    "    cifar_train = datasets.CIFAR10('../data/cifar', True, transform=transforms.Compose([\n",
    "        transforms.Resize((32, 32)),\n",
    "        transforms.ToTensor(),\n",
    "        transforms.Normalize(mean=[0.485, 0.456, 0.406], \n",
    "                            std=[0.229, 0.224, 0.225])\n",
    "    ]), download=True)\n",
    "    cifar_train = DataLoader(cifar_train, batch_size=batchsz, shuffle=True)\n",
    "    \n",
    "    cifar_test = datasets.CIFAR10('../data/cifar', False, transform=transforms.Compose([\n",
    "        transforms.Resize((32, 32)),\n",
    "        transforms.ToTensor(),\n",
    "        transforms.Normalize(mean=[0.485, 0.456, 0.406], \n",
    "                            std=[0.229, 0.224, 0.225])\n",
    "    ]), download=True)\n",
    "    cifar_test = DataLoader(cifar_test, batch_size=batchsz, shuffle=True)\n",
    "    \n",
    "    x, label = iter(cifar_train).next()\n",
    "    print('x:', x.shape, 'label:', label.shape)\n",
    "\n",
    "    net = Lenet5()\n",
    "    criterion = nn.CrossEntropyLoss()\n",
    "    optimizer = optim.Adam(net.parameters(), lr=1e-3)\n",
    "    \n",
    "    for epoch in range(5):\n",
    "        net.train()\n",
    "        \n",
    "        for batchidx, (x, label) in enumerate(cifar_train):\n",
    "            logits = net(x)\n",
    "            loss = criterion(logits, label)\n",
    "            optimizer.zero_grad()\n",
    "            loss.backward()\n",
    "            optimizer.step()\n",
    "        \n",
    "        print(epoch, 'loss:', loss.item())\n",
    "        \n",
    "        net.eval()\n",
    "        with torch.no_grad():\n",
    "            total_correct = 0\n",
    "            total_num = 0\n",
    "            \n",
    "            for x, label in cifar_test:\n",
    "                logits = net(x)\n",
    "                pred = logits.argmax(dim=1)\n",
    "                correct = pred.eq(label).float().sum().item()\n",
    "                total_correct += correct\n",
    "                total_num += x.size(0)\n",
    "                \n",
    "            print('acc :', total_correct / total_num)"
   ]
  },
  {
   "cell_type": "code",
   "execution_count": null,
   "id": "1e33db86",
   "metadata": {},
   "outputs": [],
   "source": []
  }
 ],
 "metadata": {
  "kernelspec": {
   "display_name": "Python 3 (ipykernel)",
   "language": "python",
   "name": "python3"
  },
  "language_info": {
   "codemirror_mode": {
    "name": "ipython",
    "version": 3
   },
   "file_extension": ".py",
   "mimetype": "text/x-python",
   "name": "python",
   "nbconvert_exporter": "python",
   "pygments_lexer": "ipython3",
   "version": "3.9.7"
  }
 },
 "nbformat": 4,
 "nbformat_minor": 5
}
