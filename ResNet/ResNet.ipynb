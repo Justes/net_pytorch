{
 "cells": [
  {
   "cell_type": "code",
   "execution_count": 2,
   "id": "cb4e0d27",
   "metadata": {},
   "outputs": [
    {
     "name": "stdout",
     "output_type": "stream",
     "text": [
      "block shape: torch.Size([2, 128, 8, 8])\n",
      "out shape: torch.Size([2, 10])\n"
     ]
    }
   ],
   "source": [
    "import torch\n",
    "import torch.nn as nn\n",
    "from torch.nn import functional as F\n",
    "\n",
    "class ResBlk(nn.Module):\n",
    "    \n",
    "    def __init__(self, ch_in, ch_out, stride=1):\n",
    "        super(ResBlk, self).__init__()\n",
    "        \n",
    "        self.conv1 = nn.Conv2d(ch_in, ch_out, kernel_size=3, stride=stride, padding=1)\n",
    "        self.bn1 = nn.BatchNorm2d(ch_out)\n",
    "        self.conv2 = nn.Conv2d(ch_out, ch_out, kernel_size=3, stride=1, padding=1)\n",
    "        self.bn2 = nn.BatchNorm2d(ch_out)\n",
    "        \n",
    "        self.extra = nn.Sequential(\n",
    "            nn.Conv2d(ch_in, ch_out, kernel_size=1, stride=stride),\n",
    "            nn.BatchNorm2d(ch_out)\n",
    "        )\n",
    "    \n",
    "    def forward(self, x):\n",
    "        out = F.relu(self.bn1(self.conv1(x)))\n",
    "        out = self.bn2(self.conv2(out))\n",
    "        a = self.extra(x)\n",
    "        out = a + out\n",
    "        out = F.relu(out)\n",
    "        \n",
    "        return out\n",
    "        \n",
    "class ResNet18(nn.Module):\n",
    "    \n",
    "    def __init__(self):\n",
    "        super(ResNet18, self).__init__()\n",
    "        \n",
    "        self.conv1 = nn.Sequential(\n",
    "            nn.Conv2d(3, 64, kernel_size=7, stride=2, padding=0),\n",
    "            #nn.Conv2d(3, 64, kernel_size=3, stride=3, padding=0),\n",
    "            nn.BatchNorm2d(64)\n",
    "        )\n",
    "        self.blk1 = ResBlk(64, 128, stride=2)\n",
    "        self.blk2 = ResBlk(128, 256, stride=2)\n",
    "        self.blk3 = ResBlk(256, 512, stride=2)\n",
    "        self.blk4 = ResBlk(512, 512, stride=2)\n",
    "        self.out_layer = nn.Linear(512*1*1, 10)\n",
    "        \n",
    "    def forward(self, x):\n",
    "        x = F.relu(self.conv1(x))\n",
    "        x = self.blk1(x)\n",
    "        x = self.blk2(x)\n",
    "        x = self.blk3(x)\n",
    "        x = self.blk4(x)\n",
    "        \n",
    "        x = F.adaptive_avg_pool2d(x, [1, 1])\n",
    "        x = x.view(x.size(0), -1)\n",
    "        x = self.out_layer(x)\n",
    "        \n",
    "        return x\n",
    "        \n",
    "        \n",
    "        \n",
    "def main():\n",
    "    blk = ResBlk(64, 128, stride=4)\n",
    "    tmp = torch.randn(2, 64, 32, 32)\n",
    "    out = blk(tmp)\n",
    "    print('block shape:', out.shape)\n",
    "    \n",
    "    x = torch.randn(2, 3, 32, 32)\n",
    "    model = ResNet18()\n",
    "    out = model(x)\n",
    "    print('out shape:', out.shape)\n",
    "    \n",
    "if __name__ == \"__main__\":\n",
    "    main()\n",
    "    "
   ]
  },
  {
   "cell_type": "code",
   "execution_count": null,
   "id": "c7107bd0",
   "metadata": {},
   "outputs": [],
   "source": []
  }
 ],
 "metadata": {
  "kernelspec": {
   "display_name": "Python 3 (ipykernel)",
   "language": "python",
   "name": "python3"
  },
  "language_info": {
   "codemirror_mode": {
    "name": "ipython",
    "version": 3
   },
   "file_extension": ".py",
   "mimetype": "text/x-python",
   "name": "python",
   "nbconvert_exporter": "python",
   "pygments_lexer": "ipython3",
   "version": "3.9.12"
  }
 },
 "nbformat": 4,
 "nbformat_minor": 5
}
