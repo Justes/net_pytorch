{
 "cells": [
  {
   "cell_type": "code",
   "execution_count": null,
   "id": "6977a9e2",
   "metadata": {},
   "outputs": [
    {
     "name": "stdout",
     "output_type": "stream",
     "text": [
      "block shape: torch.Size([2, 128, 8, 8])\n",
      "out shape: torch.Size([2, 10])\n",
      "Files already downloaded and verified\n",
      "Files already downloaded and verified\n",
      "x: torch.Size([128, 3, 32, 32]) label: torch.Size([128])\n"
     ]
    }
   ],
   "source": [
    "import torch\n",
    "from torch.utils.data import DataLoader\n",
    "from torchvision import datasets, transforms\n",
    "from torch import nn, optim\n",
    "\n",
    "%run ResNet.ipynb\n",
    "\n",
    "def main():\n",
    "    batchsz = 128\n",
    "    cifar_train = datasets.CIFAR10('../data/cifar', True, transform=transforms.Compose([\n",
    "        transforms.Resize((32, 32)),\n",
    "        transforms.ToTensor(),\n",
    "        transforms.Normalize(mean=[0.485, 0.456, 0.406], std=[0.229, 0.224, 0.225])\n",
    "    ]), download=True)\n",
    "    cifar_train = DataLoader(cifar_train, batch_size=batchsz, shuffle=True)\n",
    "    \n",
    "    cifar_test = datasets.CIFAR10('../data/cifar', False, transform=transforms.Compose([\n",
    "        transforms.Resize((32, 32)),\n",
    "        transforms.ToTensor(),\n",
    "        transforms.Normalize(mean=[0.485, 0.456, 0.406], std=[0.229, 0.224, 0.225])\n",
    "    ]), download=True)\n",
    "    cifar_test = DataLoader(cifar_test, batch_size=batchsz, shuffle=True)\n",
    "    \n",
    "    x, label = iter(cifar_train).next()\n",
    "    print('x:', x.shape, 'label:',label.shape)\n",
    "    \n",
    "    model = ResNet18()\n",
    "    criterion = nn.CrossEntropyLoss()\n",
    "    optimizer = optim.Adam(model.parameters(), lr=1e-3)\n",
    "    #print(model)\n",
    "    \n",
    "    for epoch in range(2):\n",
    "        model.train()\n",
    "        for batchidx, (x, label) in enumerate(cifar_train):\n",
    "            logits = model(x)\n",
    "            loss = criterion(logits, label)\n",
    "            optimizer.zero_grad()\n",
    "            loss.backward()\n",
    "            optimizer.step()\n",
    "        \n",
    "        print(epoch, 'loss:', loss.item())\n",
    "        \n",
    "        model.eval()\n",
    "        \n",
    "        with torch.no_grad():\n",
    "            total_correct = 0\n",
    "            total_num = 0\n",
    "            for x, label in cifar_test:\n",
    "                logits = model(x)\n",
    "                pred = logits.argmax(dim=1)\n",
    "                correct = torch.eq(pred, label).float().sum().item()\n",
    "                total_correct += correct\n",
    "                total_num += x.size(0)\n",
    "            \n",
    "            acc = total_correct / total_num\n",
    "            print(epoch, 'test acc:', acc)\n",
    "    \n",
    "if __name__ == \"__main__\":\n",
    "    main()"
   ]
  },
  {
   "cell_type": "code",
   "execution_count": null,
   "id": "688a109b",
   "metadata": {},
   "outputs": [],
   "source": []
  }
 ],
 "metadata": {
  "kernelspec": {
   "display_name": "Python 3 (ipykernel)",
   "language": "python",
   "name": "python3"
  },
  "language_info": {
   "codemirror_mode": {
    "name": "ipython",
    "version": 3
   },
   "file_extension": ".py",
   "mimetype": "text/x-python",
   "name": "python",
   "nbconvert_exporter": "python",
   "pygments_lexer": "ipython3",
   "version": "3.9.7"
  }
 },
 "nbformat": 4,
 "nbformat_minor": 5
}
